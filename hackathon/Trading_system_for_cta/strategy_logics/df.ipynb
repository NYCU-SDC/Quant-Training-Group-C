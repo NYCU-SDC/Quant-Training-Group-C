{
 "cells": [
  {
   "cell_type": "code",
   "execution_count": null,
   "metadata": {
    "vscode": {
     "languageId": "plaintext"
    }
   },
   "outputs": [],
   "source": [
    "import redis\n",
    "import pandas as pd\n",
    "from io import BytesIO\n",
    "\n",
    "# 連接到Redis\n",
    "redis_host = 'localhost'\n",
    "redis_port = 6379\n",
    "\n",
    "r = redis.Redis(host=redis_host, port=redis_port, db=0)\n",
    "\n",
    "# 從Redis取得pickled的DataFrame資料\n",
    "data = r.get('strategy_df')\n",
    "\n",
    "if data is not None:\n",
    "    # 使用BytesIO將bytes轉成檔案物件，再用pd.read_pickle讀入\n",
    "    buffer = BytesIO(data)\n",
    "    df = pd.read_pickle(buffer)\n",
    "\n",
    "    # 顯示DataFrame資訊\n",
    "    print(\"DataFrame Columns:\", df.columns)\n",
    "    print(\"DataFrame Head:\")\n",
    "    display(df)\n",
    "    print(\"DataFrame Info:\")\n",
    "    display(df.info())\n",
    "else:\n",
    "    print(\"No data found for 'strategy_df' in Redis.\")"
   ]
  }
 ],
 "metadata": {
  "language_info": {
   "name": "python"
  }
 },
 "nbformat": 4,
 "nbformat_minor": 2
}
